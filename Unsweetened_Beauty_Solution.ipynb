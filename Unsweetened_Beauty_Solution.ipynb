{
  "nbformat": 4,
  "nbformat_minor": 0,
  "metadata": {
    "colab": {
      "provenance": [],
      "authorship_tag": "ABX9TyMbzh9crXDVodeXeJ84xyMM",
      "include_colab_link": true
    },
    "kernelspec": {
      "name": "python3",
      "display_name": "Python 3"
    },
    "language_info": {
      "name": "python"
    }
  },
  "cells": [
    {
      "cell_type": "markdown",
      "metadata": {
        "id": "view-in-github",
        "colab_type": "text"
      },
      "source": [
        "<a href=\"https://colab.research.google.com/github/Gajendra-theDataEngineer004627/All_Learnings/blob/main/Unsweetened_Beauty_Solution.ipynb\" target=\"_parent\"><img src=\"https://colab.research.google.com/assets/colab-badge.svg\" alt=\"Open In Colab\"/></a>"
      ]
    },
    {
      "cell_type": "code",
      "source": [
        "!pip install bs4"
      ],
      "metadata": {
        "id": "RVxW7PSz-hJJ"
      },
      "execution_count": null,
      "outputs": []
    },
    {
      "cell_type": "code",
      "source": [
        "!pip install requests"
      ],
      "metadata": {
        "id": "WRcxLsdc-19T"
      },
      "execution_count": null,
      "outputs": []
    },
    {
      "cell_type": "code",
      "source": [
        "!pip install pandas"
      ],
      "metadata": {
        "id": "QRZ8K_cJ-4ra"
      },
      "execution_count": null,
      "outputs": []
    },
    {
      "cell_type": "code",
      "source": [
        "from bs4 import BeautifulSoup\n",
        "import requests\n",
        "import pandas as pd"
      ],
      "metadata": {
        "id": "9XKwYZP2-6Aw"
      },
      "execution_count": 5,
      "outputs": []
    },
    {
      "cell_type": "code",
      "source": [
        "url = \"https://www.amazon.in/s?rh=n%3A1374407031&fs=true&ref=lp_1374407031_sar\""
      ],
      "metadata": {
        "id": "MEGfooLy-73Y"
      },
      "execution_count": 6,
      "outputs": []
    },
    {
      "cell_type": "code",
      "source": [
        "# header for the request\n",
        "#HEADERS = ({'User-Agent':'Mozilla/5.0 (Windows NT 10.0; Win64; x64; rv:109.0) Gecko/20100101 Firefox/118.0','Accept-Language':'en-US,en;q=0.5'})\n",
        "HEADERS = {\n",
        "    'User-Agent': 'Mozilla/5.0 (Windows NT 10.0; Win64; x64) AppleWebKit/537.36 (KHTML, like Gecko) Chrome/94.0.4606.71 Safari/537.36',\n",
        "    'Accept-Language': 'en-US,en;q=0.5'\n",
        "}\n"
      ],
      "metadata": {
        "id": "Dvwxu4QO-9o4"
      },
      "execution_count": 13,
      "outputs": []
    },
    {
      "cell_type": "code",
      "source": [
        "webpage = requests.get(url, headers = HEADERS)"
      ],
      "metadata": {
        "id": "HqwY1Fry_P2Y"
      },
      "execution_count": 14,
      "outputs": []
    },
    {
      "cell_type": "code",
      "source": [
        "# we should get response [200] for successful connection\n",
        "webpage"
      ],
      "metadata": {
        "colab": {
          "base_uri": "https://localhost:8080/"
        },
        "id": "4Ee9IzoR_TjQ",
        "outputId": "0d05f475-a4ff-4869-b778-3149f2c49fc9"
      },
      "execution_count": 15,
      "outputs": [
        {
          "output_type": "execute_result",
          "data": {
            "text/plain": [
              "<Response [503]>"
            ]
          },
          "metadata": {},
          "execution_count": 15
        }
      ]
    },
    {
      "cell_type": "code",
      "source": [
        "# soup object containing all data\n",
        "soup = BeautifulSoup(webpage.content,\"html.parser\")\n",
        "# will convert the bytecode of the file to HTML  format"
      ],
      "metadata": {
        "id": "gu7WkHbQ_WOi"
      },
      "execution_count": null,
      "outputs": []
    },
    {
      "cell_type": "code",
      "source": [
        "# fetch links as List of TAg objects\n",
        "# links = soup.find_all(\"a\",attrs={'class':'a-link-normal a-no-outline'})\n",
        "links = soup.find_all(\"a\", attrs={'class':'a-link-normal s-underline-text s-underline-link-text s-link-style a-text-normal'})\n",
        ""
      ],
      "metadata": {
        "id": "tI7SmJu9_XVB"
      },
      "execution_count": null,
      "outputs": []
    },
    {
      "cell_type": "code",
      "source": [
        "# testing for just one link\n",
        "link = links[0].get('href')"
      ],
      "metadata": {
        "id": "1T5OwiJe_2Ia"
      },
      "execution_count": null,
      "outputs": []
    },
    {
      "cell_type": "code",
      "source": [
        "\n",
        "product_list = \"https://amazon.in\" + link"
      ],
      "metadata": {
        "id": "HRSDS51w_6A4"
      },
      "execution_count": null,
      "outputs": []
    },
    {
      "cell_type": "code",
      "source": [
        "\n",
        "product_list"
      ],
      "metadata": {
        "id": "3UcxsrVE_7xI"
      },
      "execution_count": null,
      "outputs": []
    },
    {
      "cell_type": "code",
      "source": [
        "\n",
        "new_test_webpage = requests.get(product_list, headers = HEADERS)"
      ],
      "metadata": {
        "id": "HGFu0hHg_-WP"
      },
      "execution_count": null,
      "outputs": []
    },
    {
      "cell_type": "code",
      "source": [
        "new_test_webpage"
      ],
      "metadata": {
        "id": "gNJdyUhb__9h"
      },
      "execution_count": null,
      "outputs": []
    },
    {
      "cell_type": "code",
      "source": [
        "\n",
        "new_soup = BeautifulSoup(new_test_webpage.content,\"html.parser\")"
      ],
      "metadata": {
        "id": "n_hSe9o9ACFQ"
      },
      "execution_count": null,
      "outputs": []
    },
    {
      "cell_type": "code",
      "source": [
        "\n",
        "# finding the title\n",
        "new_soup.find(\"span\", attrs={\"id\":'productTitle'}).text.strip()"
      ],
      "metadata": {
        "id": "KbEjjttTAEA4"
      },
      "execution_count": null,
      "outputs": []
    },
    {
      "cell_type": "code",
      "source": [
        "# finding the price\n",
        "new_soup.find(\"span\", attrs={\"class\":'a-price aok-align-center reinventPricePriceToPayMargin priceToPay'}).find(\"span\", attrs={\"class\": \"a-offscreen\"}).text\n",
        ""
      ],
      "metadata": {
        "id": "49tCdLeaAGXZ"
      },
      "execution_count": null,
      "outputs": []
    },
    {
      "cell_type": "code",
      "source": [
        "\n",
        "new_soup.find('span',attrs={\"class\":'a-icon-alt'}).text"
      ],
      "metadata": {
        "id": "jeFc53K-AIF4"
      },
      "execution_count": null,
      "outputs": []
    },
    {
      "cell_type": "code",
      "source": [
        "new_soup.find('span', {'id': 'acrCustomerReviewText', 'class': 'a-size-base'}).text\n",
        ""
      ],
      "metadata": {
        "id": "4mlpAopeAKTQ"
      },
      "execution_count": null,
      "outputs": []
    }
  ]
}